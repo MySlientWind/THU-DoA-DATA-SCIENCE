{
 "cells": [
  {
   "cell_type": "markdown",
   "metadata": {
    "id": "RGabehFaHkFq"
   },
   "source": [
    "# Introduction to jax.shard\n",
    "\n",
    "`jax 0.4` newly released the shard feature, which is super easy to use: maybe you can just use the `jax.Array` as usual, but it will **automatically** be computed on multiple devices!"
   ]
  },
  {
   "cell_type": "markdown",
   "metadata": {
    "id": "sfrAS6KOICaD"
   },
   "source": [
    "## A recap of jax: upgraded version of numpy\n",
    "\n",
    "Here let's just play with some `jax.numpy`, you'll find that it's (almost) nothing different from the numpy, but cross-platform, and have grad."
   ]
  },
  {
   "cell_type": "code",
   "execution_count": 1,
   "metadata": {
    "colab": {
     "base_uri": "https://localhost:8080/"
    },
    "executionInfo": {
     "elapsed": 5398,
     "status": "ok",
     "timestamp": 1686734076707,
     "user": {
      "displayName": "diao kangning",
      "userId": "02354763822664373604"
     },
     "user_tz": -480
    },
    "id": "Cf1I8ZjmIbgs",
    "outputId": "33ec0551-9075-4db1-f6e2-485e975c8060"
   },
   "outputs": [
    {
     "name": "stdout",
     "output_type": "stream",
     "text": [
      "Looking in indexes: https://pypi.org/simple, https://us-python.pkg.dev/colab-wheels/public/simple/\n",
      "Looking in links: https://storage.googleapis.com/jax-releases/libtpu_releases.html\n",
      "Requirement already satisfied: jax[tpu] in /usr/local/lib/python3.10/dist-packages (0.4.12)\n",
      "Requirement already satisfied: ml-dtypes>=0.1.0 in /usr/local/lib/python3.10/dist-packages (from jax[tpu]) (0.1.0)\n",
      "Requirement already satisfied: numpy>=1.21 in /usr/local/lib/python3.10/dist-packages (from jax[tpu]) (1.24.3)\n",
      "Requirement already satisfied: opt-einsum in /usr/local/lib/python3.10/dist-packages (from jax[tpu]) (3.3.0)\n",
      "Requirement already satisfied: scipy>=1.7 in /usr/local/lib/python3.10/dist-packages (from jax[tpu]) (1.10.1)\n",
      "Requirement already satisfied: jaxlib==0.4.12 in /usr/local/lib/python3.10/dist-packages (from jax[tpu]) (0.4.12)\n",
      "Requirement already satisfied: libtpu-nightly==0.1.dev20230608 in /usr/local/lib/python3.10/dist-packages (from jax[tpu]) (0.1.dev20230608)\n"
     ]
    }
   ],
   "source": [
    "#let's install the newest version of jax\n",
    "!pip install \"jax[cpu]\" --upgrade -f https://storage.googleapis.com/jax-releases/libtpu_releases.html"
   ]
  },
  {
   "cell_type": "markdown",
   "metadata": {},
   "source": [
    "I'm runing the notebook on metis, with code:\n",
    "```bash\n",
    "qsub -I -lselect=1:ncpus=8:ngpus=0:mem=80gb\n",
    "```\n",
    "to allocate 8 CPU cores, pretending I have 8 different devices. (I cannot allocate 8 GPUs, or Yi might be mad)"
   ]
  },
  {
   "cell_type": "code",
   "execution_count": 1,
   "metadata": {
    "colab": {
     "base_uri": "https://localhost:8080/",
     "height": 35
    },
    "executionInfo": {
     "elapsed": 142,
     "status": "ok",
     "timestamp": 1686734145732,
     "user": {
      "displayName": "diao kangning",
      "userId": "02354763822664373604"
     },
     "user_tz": -480
    },
    "id": "TF2120sJIjC5",
    "outputId": "12cc23dd-df88-450c-c74f-7b30ce39dcfb"
   },
   "outputs": [
    {
     "name": "stderr",
     "output_type": "stream",
     "text": [
      "2023-06-20 16:41:14.247708: E external/xla/xla/stream_executor/cuda/cuda_driver.cc:268] failed call to cuInit: CUDA_ERROR_NO_DEVICE: no CUDA-capable device is detected\n",
      "No GPU/TPU found, falling back to CPU. (Set TF_CPP_MIN_LOG_LEVEL=0 and rerun for more info.)\n"
     ]
    },
    {
     "name": "stdout",
     "output_type": "stream",
     "text": [
      "We have 8 devices\n"
     ]
    },
    {
     "data": {
      "text/plain": [
       "'0.4.10'"
      ]
     },
     "execution_count": 1,
     "metadata": {},
     "output_type": "execute_result"
    }
   ],
   "source": [
    "import os\n",
    "#this is to separate CPU cores into 8 different devices. \n",
    "#Otherwise clever jax will auto-detect all the CPU cores as one device.\n",
    "os.environ[\"XLA_FLAGS\"] = \"--xla_force_host_platform_device_count=8\"\n",
    "import jax.numpy as jnp\n",
    "import jax\n",
    "import matplotlib.pyplot as plt\n",
    "import astropy\n",
    "print('We have '+str(jax.device_count())+' devices')\n",
    "jax.version.__version__"
   ]
  },
  {
   "cell_type": "markdown",
   "metadata": {
    "id": "V8eHvm2aJjGM"
   },
   "source": [
    "### Example: linear regression with gradient descent\n",
    "let's use the most simplest model -- the linear regression model as an example, to see how `jax.numpy` is actually the same as numpy.\n",
    "\n",
    "our model was like:\n",
    "$$\n",
    "y = \\sqrt{2}x + 0.6 + \\epsilon \\\\\n",
    "ϵ \\sim \\mathcal{N}(0,0.3)\n",
    "$$\n",
    "\n",
    "So let's first generate `x` and `y`"
   ]
  },
  {
   "cell_type": "code",
   "execution_count": 2,
   "metadata": {
    "colab": {
     "base_uri": "https://localhost:8080/",
     "height": 443
    },
    "executionInfo": {
     "elapsed": 42989,
     "status": "error",
     "timestamp": 1686734192208,
     "user": {
      "displayName": "diao kangning",
      "userId": "02354763822664373604"
     },
     "user_tz": -480
    },
    "id": "t-BVr1EGJOKj",
    "outputId": "1cfb2f33-a5e6-417d-dc6b-cb82870be62b"
   },
   "outputs": [],
   "source": [
    "# unlike numpy, here jax need a random key for each random sampling function\n",
    "x = jax.random.uniform(jax.random.PRNGKey(0), [8192])\n",
    "eps = jax.random.normal(jax.random.PRNGKey(1), [8192])*0.3\n",
    "y = jnp.sqrt(2)*x+eps+0.6"
   ]
  },
  {
   "cell_type": "markdown",
   "metadata": {},
   "source": [
    "Next we imagine: we only know x, y, and the distribution of error term $\\epsilon$, try to infer the value of linear parameters. As a demostration, we will only use the MLE method to optimise.\n",
    "\n",
    "#### Construct likelihood\n",
    "\n",
    "First we construct our model `y_model = kx + b`"
   ]
  },
  {
   "cell_type": "code",
   "execution_count": 3,
   "metadata": {
    "id": "YzpxQP6GLcr7"
   },
   "outputs": [],
   "source": [
    "def linear_model(params):\n",
    "    y_model = params['k']*x + params['b']\n",
    "    return y_model"
   ]
  },
  {
   "cell_type": "markdown",
   "metadata": {},
   "source": [
    "Next is the likelihood $$\\log\\mathcal{L} = - \\frac{(y_{model}-y_{obs})^2}{2\\sigma^2} - 0.28 $$"
   ]
  },
  {
   "cell_type": "code",
   "execution_count": 4,
   "metadata": {},
   "outputs": [],
   "source": [
    "def log_p(params):\n",
    "    y_model = linear_model(params)\n",
    "    log_l = -(y_model - y)**2/(2*0.09)\n",
    "    return log_l.sum()"
   ]
  },
  {
   "cell_type": "markdown",
   "metadata": {},
   "source": [
    "#### Run the MLE\n",
    "Now we can run the code to get the likelihood."
   ]
  },
  {
   "cell_type": "code",
   "execution_count": 5,
   "metadata": {},
   "outputs": [
    {
     "name": "stdout",
     "output_type": "stream",
     "text": [
      "CPU times: user 57.5 ms, sys: 2.89 ms, total: 60.4 ms\n",
      "Wall time: 60 ms\n"
     ]
    },
    {
     "data": {
      "text/plain": [
       "Array(-6385.2905, dtype=float32)"
      ]
     },
     "execution_count": 5,
     "metadata": {},
     "output_type": "execute_result"
    }
   ],
   "source": [
    "# first we initialize a k and b\n",
    "params = {'k':1.,'b':1.}\n",
    "\n",
    "# then we calculate the log_l\n",
    "%time log_l = log_p(params)\n",
    "\n",
    "log_l"
   ]
  },
  {
   "cell_type": "markdown",
   "metadata": {},
   "source": [
    "How do we get the **gradient**? Just one function: `jax.value_and_grad()`"
   ]
  },
  {
   "cell_type": "code",
   "execution_count": 6,
   "metadata": {},
   "outputs": [],
   "source": [
    "grad_log_p = jax.value_and_grad(log_p)\n",
    "log_l_value,log_l_grad = grad_log_p(params)"
   ]
  },
  {
   "cell_type": "code",
   "execution_count": 7,
   "metadata": {},
   "outputs": [
    {
     "data": {
      "text/plain": [
       "Array(-6385.2905, dtype=float32)"
      ]
     },
     "execution_count": 7,
     "metadata": {},
     "output_type": "execute_result"
    }
   ],
   "source": [
    "#we can see we have the same value as before\n",
    "log_l_value"
   ]
  },
  {
   "cell_type": "code",
   "execution_count": 8,
   "metadata": {},
   "outputs": [
    {
     "data": {
      "text/plain": [
       "{'b': Array(-17343.719, dtype=float32, weak_type=True),\n",
       " 'k': Array(-5533.046, dtype=float32, weak_type=True)}"
      ]
     },
     "execution_count": 8,
     "metadata": {},
     "output_type": "execute_result"
    }
   ],
   "source": [
    "#and the grad?\n",
    "log_l_grad"
   ]
  },
  {
   "cell_type": "markdown",
   "metadata": {},
   "source": [
    "Cool! now we can maximize the `log_l`, just design a loop like this:"
   ]
  },
  {
   "cell_type": "code",
   "execution_count": 9,
   "metadata": {},
   "outputs": [],
   "source": [
    "#we first define a function to update dict:\n",
    "@jax.jit\n",
    "def gradient_descent(params,grads,lr=1e-5):\n",
    "    for keys in params.keys():\n",
    "        params[keys] = params[keys] + grads[keys]*lr\n",
    "    return params"
   ]
  },
  {
   "cell_type": "code",
   "execution_count": 10,
   "metadata": {},
   "outputs": [
    {
     "name": "stdout",
     "output_type": "stream",
     "text": [
      "CPU times: user 5.24 s, sys: 0 ns, total: 5.24 s\n",
      "Wall time: 5.27 s\n"
     ]
    }
   ],
   "source": [
    "%%time\n",
    "log_l_iter = []\n",
    "iters = 1000\n",
    "for i in range(iters):\n",
    "    log_l_value,log_l_grad = grad_log_p(params)\n",
    "    log_l_iter.append(log_l_value)\n",
    "    params = gradient_descent(params,log_l_grad)"
   ]
  },
  {
   "cell_type": "code",
   "execution_count": 11,
   "metadata": {},
   "outputs": [
    {
     "data": {
      "text/plain": [
       "[<matplotlib.lines.Line2D at 0x145edc077c10>]"
      ]
     },
     "execution_count": 11,
     "metadata": {},
     "output_type": "execute_result"
    },
    {
     "data": {
      "image/png": "[encoded data removed]",
      "text/plain": [
       "<Figure size 640x480 with 1 Axes>"
      ]
     },
     "metadata": {},
     "output_type": "display_data"
    }
   ],
   "source": [
    "plt.plot(log_l_iter)"
   ]
  },
  {
   "cell_type": "code",
   "execution_count": 60,
   "metadata": {},
   "outputs": [
    {
     "data": {
      "text/plain": [
       "{'b': Array(0.6016596, dtype=float32, weak_type=True),\n",
       " 'k': Array(1.415271, dtype=float32, weak_type=True)}"
      ]
     },
     "execution_count": 60,
     "metadata": {},
     "output_type": "execute_result"
    }
   ],
   "source": [
    "params"
   ]
  },
  {
   "cell_type": "markdown",
   "metadata": {},
   "source": [
    "## Simple parallelism with `vmap`\n",
    "\n",
    "Some times we have GPU, which is optimised for parallel computation. JAX provides multiple functions to do the parallel computing, let's start from the simplest: `vmap`.\n",
    "\n",
    "The `vmap` serves for vectorization. let's take a look at the loop:\n",
    "```python\n",
    "for i in range(n):\n",
    "    c[i] = a[i] + b[i]\n",
    "```\n",
    "In principle the processor just carry out the loop one by one from 1 to n. Fortunately, modern CPUs can process 4 to 8 `add` ops at the same time, and GPUs can even do more, like thousands. So it would be a waste to do the loop one by one. The so-called vectorization is, for example, not feed `a[i]` and `b[i]` to CPU, but a vector of `a[i],a[i+1],a[i+2],a[i+3]` and `b[i],b[i+1],b[i+2],b[i+3]` to CPU.\n",
    "\n",
    "Many jax functions has built-in vectorization, if you write `c = a + b` then it's automatically vectorized. However if you have your own function, sometimes it's hard to write a vectorized version. You can write your function like:\n",
    "```python\n",
    "def f(a,b):\n",
    "    return a+b\n",
    "for i in range(n):\n",
    "    c[i] = f(a[i],b[i])\n",
    "```\n",
    "Then use `vmap` to convert the `f` to a vectorized version.\n"
   ]
  },
  {
   "cell_type": "markdown",
   "metadata": {},
   "source": [
    "### Example: convolution\n",
    "\n",
    "The convolution process is a bit complicated, and is hard to be vectorized manually. Here the math eqn is:\n",
    "$$\n",
    "y_i = \\sum_{j = 0,1,2}x_{i+j}*w_j \n",
    "$$"
   ]
  },
  {
   "cell_type": "code",
   "execution_count": 98,
   "metadata": {},
   "outputs": [],
   "source": [
    "#suppose here w is a 1d vector of length 3\n",
    "@jax.jit\n",
    "def convolve(x,w):\n",
    "    y = jnp.concatenate([x,jnp.zeros([w.shape[0]-1])],axis = 0)\n",
    "    for i in range(len(x)):\n",
    "        x = x.at[i].set(jnp.sum(y[i:i+3]+w))\n",
    "    return x"
   ]
  },
  {
   "cell_type": "code",
   "execution_count": 99,
   "metadata": {},
   "outputs": [
    {
     "data": {
      "text/plain": [
       "Array([12., 15., 18., 16., 13.], dtype=float32)"
      ]
     },
     "execution_count": 99,
     "metadata": {},
     "output_type": "execute_result"
    }
   ],
   "source": [
    "x = jnp.arange(5,dtype = jnp.float32)\n",
    "w = jnp.array([2., 3., 4.])\n",
    "convolve(x,w)"
   ]
  },
  {
   "cell_type": "markdown",
   "metadata": {},
   "source": [
    "Now everything looks good, but what if our x have a shape of `[8192,5]`?"
   ]
  },
  {
   "cell_type": "code",
   "execution_count": 100,
   "metadata": {},
   "outputs": [],
   "source": [
    "x = jax.random.uniform(jax.random.PRNGKey(0), [8192,128])"
   ]
  },
  {
   "cell_type": "code",
   "execution_count": 101,
   "metadata": {},
   "outputs": [
    {
     "name": "stdout",
     "output_type": "stream",
     "text": [
      "CPU times: user 6.56 s, sys: 2.67 ms, total: 6.56 s\n",
      "Wall time: 6.58 s\n"
     ]
    }
   ],
   "source": [
    "%%time\n",
    "result = []\n",
    "for i in range(x.shape[0]):\n",
    "    result.append(convolve(x[i],w))"
   ]
  },
  {
   "cell_type": "markdown",
   "metadata": {},
   "source": [
    "We transfer to vmap"
   ]
  },
  {
   "cell_type": "code",
   "execution_count": 102,
   "metadata": {},
   "outputs": [
    {
     "name": "stdout",
     "output_type": "stream",
     "text": [
      "CPU times: user 1.64 s, sys: 40.2 ms, total: 1.68 s\n",
      "Wall time: 1.66 s\n"
     ]
    }
   ],
   "source": [
    "convolve_batch = jax.vmap(lambda x: convolve(x,w))\n",
    "%time result_vmap = convolve_batch(x)"
   ]
  },
  {
   "cell_type": "markdown",
   "metadata": {},
   "source": [
    "Now have you seen the power of vmap?\n",
    "**100x** speed up!"
   ]
  },
  {
   "cell_type": "markdown",
   "metadata": {},
   "source": [
    "## Automatic parallel with shard\n",
    "\n",
    "Now we've finally come to the most exciting part: The sharding part. This module allows people put data on different devices, thus, one can utilize multiple devices to do the same job. This is not anything new -- but it's super easy to use."
   ]
  },
  {
   "cell_type": "markdown",
   "metadata": {},
   "source": [
    "As we said before, the meaning of shard is to put the different part of an array on different devices, so that when we do the computing, the different devices will compute different parts of the array. Take an analogy: if you want cook 8 chicken wing at the same time, and you have 8 pots and 8 people, of course you can put one chicken wing on one pot, and cook at the same time.\n",
    "\n",
    "For example let's get back to this simplest `c = a + b`"
   ]
  },
  {
   "cell_type": "code",
   "execution_count": 2,
   "metadata": {},
   "outputs": [],
   "source": [
    "a = jax.random.uniform(jax.random.PRNGKey(0), [8192])\n",
    "b = jax.random.uniform(jax.random.PRNGKey(0), [8192])"
   ]
  },
  {
   "cell_type": "code",
   "execution_count": 3,
   "metadata": {},
   "outputs": [
    {
     "name": "stdout",
     "output_type": "stream",
     "text": [
      "CPU times: user 9.67 ms, sys: 1.71 ms, total: 11.4 ms\n",
      "Wall time: 10.7 ms\n"
     ]
    }
   ],
   "source": [
    "%%time \n",
    "c = a + b"
   ]
  },
  {
   "cell_type": "markdown",
   "metadata": {},
   "source": [
    "Now let's put `a` and `b` on different devices.\n",
    "\n",
    "First let's create a `sharding` object, it's like telling people the way you split the chicken wings."
   ]
  },
  {
   "cell_type": "code",
   "execution_count": 4,
   "metadata": {},
   "outputs": [],
   "source": [
    "from jax.experimental import mesh_utils\n",
    "from jax.sharding import PositionalSharding\n",
    "\n",
    "# Create a Sharding object to distribute a value across devices:\n",
    "sharding = PositionalSharding(mesh_utils.create_device_mesh((8,)))\n",
    "\n",
    "a_shard = jax.device_put(a, sharding)\n",
    "b_shard = jax.device_put(b, sharding)"
   ]
  },
  {
   "cell_type": "code",
   "execution_count": 5,
   "metadata": {},
   "outputs": [
    {
     "data": {
      "text/html": [
       "<pre style=\"white-space:pre;overflow-x:auto;line-height:normal;font-family:Menlo,'DejaVu Sans Mono',consolas,'Courier New',monospace\"><span style=\"color: #ffffff; text-decoration-color: #ffffff; background-color: #393b79\">  CPU 0  </span><span style=\"color: #ffffff; text-decoration-color: #ffffff; background-color: #d6616b\">  CPU 1  </span><span style=\"color: #ffffff; text-decoration-color: #ffffff; background-color: #8ca252\">  CPU 2  </span><span style=\"color: #ffffff; text-decoration-color: #ffffff; background-color: #de9ed6\">  CPU 3  </span><span style=\"color: #000000; text-decoration-color: #000000; background-color: #e7cb94\">  CPU 4  </span><span style=\"color: #ffffff; text-decoration-color: #ffffff; background-color: #6b6ecf\">  CPU 5  </span><span style=\"color: #ffffff; text-decoration-color: #ffffff; background-color: #a55194\">  CPU 6  </span><span style=\"color: #ffffff; text-decoration-color: #ffffff; background-color: #8c6d31\">  CPU 7  </span>\n",
       "<span style=\"color: #ffffff; text-decoration-color: #ffffff; background-color: #393b79\">         </span><span style=\"color: #ffffff; text-decoration-color: #ffffff; background-color: #d6616b\">         </span><span style=\"color: #ffffff; text-decoration-color: #ffffff; background-color: #8ca252\">         </span><span style=\"color: #ffffff; text-decoration-color: #ffffff; background-color: #de9ed6\">         </span><span style=\"color: #000000; text-decoration-color: #000000; background-color: #e7cb94\">         </span><span style=\"color: #ffffff; text-decoration-color: #ffffff; background-color: #6b6ecf\">         </span><span style=\"color: #ffffff; text-decoration-color: #ffffff; background-color: #a55194\">         </span><span style=\"color: #ffffff; text-decoration-color: #ffffff; background-color: #8c6d31\">         </span>\n",
       "</pre>\n"
      ],
      "text/plain": [
       "\u001b[38;2;255;255;255;48;2;57;59;121m  \u001b[0m\u001b[38;2;255;255;255;48;2;57;59;121mCPU 0\u001b[0m\u001b[38;2;255;255;255;48;2;57;59;121m  \u001b[0m\u001b[38;2;255;255;255;48;2;214;97;107m  \u001b[0m\u001b[38;2;255;255;255;48;2;214;97;107mCPU 1\u001b[0m\u001b[38;2;255;255;255;48;2;214;97;107m  \u001b[0m\u001b[38;2;255;255;255;48;2;140;162;82m  \u001b[0m\u001b[38;2;255;255;255;48;2;140;162;82mCPU 2\u001b[0m\u001b[38;2;255;255;255;48;2;140;162;82m  \u001b[0m\u001b[38;2;255;255;255;48;2;222;158;214m  \u001b[0m\u001b[38;2;255;255;255;48;2;222;158;214mCPU 3\u001b[0m\u001b[38;2;255;255;255;48;2;222;158;214m  \u001b[0m\u001b[38;2;0;0;0;48;2;231;203;148m  \u001b[0m\u001b[38;2;0;0;0;48;2;231;203;148mCPU 4\u001b[0m\u001b[38;2;0;0;0;48;2;231;203;148m  \u001b[0m\u001b[38;2;255;255;255;48;2;107;110;207m  \u001b[0m\u001b[38;2;255;255;255;48;2;107;110;207mCPU 5\u001b[0m\u001b[38;2;255;255;255;48;2;107;110;207m  \u001b[0m\u001b[38;2;255;255;255;48;2;165;81;148m  \u001b[0m\u001b[38;2;255;255;255;48;2;165;81;148mCPU 6\u001b[0m\u001b[38;2;255;255;255;48;2;165;81;148m  \u001b[0m\u001b[38;2;255;255;255;48;2;140;109;49m  \u001b[0m\u001b[38;2;255;255;255;48;2;140;109;49mCPU 7\u001b[0m\u001b[38;2;255;255;255;48;2;140;109;49m  \u001b[0m\n",
       "\u001b[38;2;255;255;255;48;2;57;59;121m         \u001b[0m\u001b[38;2;255;255;255;48;2;214;97;107m         \u001b[0m\u001b[38;2;255;255;255;48;2;140;162;82m         \u001b[0m\u001b[38;2;255;255;255;48;2;222;158;214m         \u001b[0m\u001b[38;2;0;0;0;48;2;231;203;148m         \u001b[0m\u001b[38;2;255;255;255;48;2;107;110;207m         \u001b[0m\u001b[38;2;255;255;255;48;2;165;81;148m         \u001b[0m\u001b[38;2;255;255;255;48;2;140;109;49m         \u001b[0m\n"
      ]
     },
     "metadata": {},
     "output_type": "display_data"
    }
   ],
   "source": [
    "jax.debug.visualize_array_sharding(a_shard)"
   ]
  },
  {
   "cell_type": "code",
   "execution_count": 6,
   "metadata": {},
   "outputs": [
    {
     "name": "stdout",
     "output_type": "stream",
     "text": [
      "CPU times: user 45 µs, sys: 33 µs, total: 78 µs\n",
      "Wall time: 86.8 µs\n"
     ]
    }
   ],
   "source": [
    "%%time \n",
    "c = a + b"
   ]
  },
  {
   "cell_type": "markdown",
   "metadata": {},
   "source": [
    "### Example: Simple neural network\n",
    "\n",
    "Here we will use photo-z as an example to demonstrate how we use distributed calculation to speed up the training.\n",
    "\n",
    "#### Data\n",
    "First we just open the dataset (provided by @Zechang Sun)"
   ]
  },
  {
   "cell_type": "code",
   "execution_count": 7,
   "metadata": {},
   "outputs": [],
   "source": [
    "from astropy.io import fits\n",
    "import numpy as np\n",
    "data = fits.open('/work/dkn16/Intro_JAX_sharding/pdr3_specz_photometry.fits')"
   ]
  },
  {
   "cell_type": "code",
   "execution_count": 8,
   "metadata": {},
   "outputs": [],
   "source": [
    "#output is the redshift \n",
    "spec_z = data[1].data['specz_redshift'].astype(np.float32)\n",
    "\n",
    "#input is the magnitude in 5 bands\n",
    "y_flux = data[1].data['y_cmodel_flux'].astype(np.float32).reshape((-1,1))\n",
    "g_flux = data[1].data['g_cmodel_flux'].astype(np.float32).reshape((-1,1))\n",
    "r_flux = data[1].data['r_cmodel_flux'].astype(np.float32).reshape((-1,1))\n",
    "i_flux = data[1].data['i_cmodel_flux'].astype(np.float32).reshape((-1,1))\n",
    "z_flux = data[1].data['z_cmodel_flux'].astype(np.float32).reshape((-1,1))\n",
    "\n",
    "input_data = np.concatenate([y_flux,g_flux,r_flux,i_flux,z_flux],axis = 1)\n",
    "data.close()"
   ]
  },
  {
   "cell_type": "code",
   "execution_count": 9,
   "metadata": {},
   "outputs": [],
   "source": [
    "input_data[np.isnan(input_data)] = 0.\n",
    "input_data[input_data<0] = 0.\n",
    "#np.min(input_data,axis=0)"
   ]
  },
  {
   "cell_type": "code",
   "execution_count": 10,
   "metadata": {},
   "outputs": [],
   "source": [
    "input_data = np.log10(input_data + 1.)"
   ]
  },
  {
   "cell_type": "code",
   "execution_count": 11,
   "metadata": {
    "scrolled": true
   },
   "outputs": [
    {
     "data": {
      "text/plain": [
       "(array([2.4423e+04, 6.3004e+04, 5.8131e+04, 4.7391e+04, 4.6381e+04,\n",
       "        3.7633e+04, 4.7642e+04, 6.0209e+04, 5.5749e+04, 4.7084e+04,\n",
       "        4.3110e+04, 3.8222e+04, 3.2617e+04, 2.2679e+04, 1.6371e+04,\n",
       "        1.1934e+04, 1.0160e+04, 6.3580e+03, 5.7810e+03, 5.2600e+03,\n",
       "        4.8920e+03, 4.6250e+03, 4.3500e+03, 4.7750e+03, 4.1410e+03,\n",
       "        3.4140e+03, 3.0080e+03, 2.8340e+03, 2.5210e+03, 2.3540e+03,\n",
       "        2.6470e+03, 2.9160e+03, 2.8510e+03, 2.5640e+03, 2.4860e+03,\n",
       "        2.1780e+03, 2.0180e+03, 1.8650e+03, 1.5140e+03, 1.3020e+03,\n",
       "        1.2410e+03, 1.1830e+03, 1.0750e+03, 9.9000e+02, 9.6600e+02,\n",
       "        9.0100e+02, 7.1700e+02, 6.6400e+02, 5.6000e+02, 4.8600e+02,\n",
       "        4.2900e+02, 3.8300e+02, 3.1500e+02, 2.7600e+02, 2.3200e+02,\n",
       "        2.0700e+02, 2.2300e+02, 1.7100e+02, 1.4800e+02, 1.4000e+02,\n",
       "        1.0600e+02, 1.0500e+02, 1.0500e+02, 1.1500e+02, 1.2100e+02,\n",
       "        9.7000e+01, 9.1000e+01, 8.8000e+01, 7.1000e+01, 5.4000e+01,\n",
       "        5.6000e+01, 3.9000e+01, 2.2000e+01, 1.9000e+01, 2.0000e+01,\n",
       "        2.1000e+01, 1.6000e+01, 1.7000e+01, 1.1000e+01, 8.0000e+00,\n",
       "        1.7000e+01, 3.3000e+01, 2.7000e+01, 2.0000e+01, 8.0000e+00,\n",
       "        6.0000e+00, 8.0000e+00, 7.0000e+00, 7.0000e+00, 4.0000e+00,\n",
       "        8.0000e+00, 1.2000e+01, 1.8000e+01, 1.0000e+01, 1.6000e+01,\n",
       "        1.3000e+01, 2.0000e+00, 5.0000e+00, 4.0000e+00, 5.0000e+00]),\n",
       " array([4.50926393e-07, 6.99913353e-02, 1.39982224e-01, 2.09973097e-01,\n",
       "        2.79963970e-01, 3.49954873e-01, 4.19945747e-01, 4.89936620e-01,\n",
       "        5.59927523e-01, 6.29918396e-01, 6.99909270e-01, 7.69900143e-01,\n",
       "        8.39891076e-01, 9.09881949e-01, 9.79872823e-01, 1.04986370e+00,\n",
       "        1.11985457e+00, 1.18984544e+00, 1.25983632e+00, 1.32982719e+00,\n",
       "        1.39981806e+00, 1.46980906e+00, 1.53979993e+00, 1.60979080e+00,\n",
       "        1.67978168e+00, 1.74977255e+00, 1.81976342e+00, 1.88975430e+00,\n",
       "        1.95974517e+00, 2.02973604e+00, 2.09972692e+00, 2.16971779e+00,\n",
       "        2.23970866e+00, 2.30969954e+00, 2.37969041e+00, 2.44968128e+00,\n",
       "        2.51967216e+00, 2.58966303e+00, 2.65965390e+00, 2.72964478e+00,\n",
       "        2.79963589e+00, 2.86962676e+00, 2.93961763e+00, 3.00960851e+00,\n",
       "        3.07959938e+00, 3.14959025e+00, 3.21958113e+00, 3.28957200e+00,\n",
       "        3.35956287e+00, 3.42955375e+00, 3.49954462e+00, 3.56953549e+00,\n",
       "        3.63952637e+00, 3.70951724e+00, 3.77950811e+00, 3.84949899e+00,\n",
       "        3.91948986e+00, 3.98948073e+00, 4.05947161e+00, 4.12946272e+00,\n",
       "        4.19945335e+00, 4.26944447e+00, 4.33943510e+00, 4.40942621e+00,\n",
       "        4.47941685e+00, 4.54940796e+00, 4.61939859e+00, 4.68938971e+00,\n",
       "        4.75938034e+00, 4.82937145e+00, 4.89936209e+00, 4.96935320e+00,\n",
       "        5.03934383e+00, 5.10933495e+00, 5.17932558e+00, 5.24931669e+00,\n",
       "        5.31930780e+00, 5.38929844e+00, 5.45928955e+00, 5.52928019e+00,\n",
       "        5.59927130e+00, 5.66926193e+00, 5.73925304e+00, 5.80924368e+00,\n",
       "        5.87923479e+00, 5.94922543e+00, 6.01921654e+00, 6.08920717e+00,\n",
       "        6.15919828e+00, 6.22918892e+00, 6.29918003e+00, 6.36917067e+00,\n",
       "        6.43916178e+00, 6.50915241e+00, 6.57914352e+00, 6.64913416e+00,\n",
       "        6.71912527e+00, 6.78911591e+00, 6.85910702e+00, 6.92909765e+00,\n",
       "        6.99908876e+00]),\n",
       " <BarContainer object of 100 artists>)"
      ]
     },
     "execution_count": 11,
     "metadata": {},
     "output_type": "execute_result"
    },
    {
     "data": {
      "image/png": "[encoded data removed]",
      "text/plain": [
       "<Figure size 640x480 with 1 Axes>"
      ]
     },
     "metadata": {},
     "output_type": "display_data"
    }
   ],
   "source": [
    "#This is to check if we normalize our model properly\n",
    "plt.hist(spec_z,100)"
   ]
  },
  {
   "cell_type": "markdown",
   "metadata": {},
   "source": [
    "#### Model\n",
    "\n",
    "Let's use a super simple 3-layer NN: one input layer, one output layer and one hidden layer.\n",
    "$$\n",
    "y_1 = {\\rm Relu}(W_1 \\cdot x + b1) \\\\\n",
    "y_2 = {\\rm Relu}(W_2 \\cdot y_1 + b2)\\\\\n",
    "y_3 = W_3 \\cdot y_2\\\\\n",
    "$$\n",
    "Our activation function is `ReLU`. Unfortunately their is no built-in `ReLU` in JAX, but you can use other package like `Haiku` for NN and `Optax` for optimising."
   ]
  },
  {
   "cell_type": "code",
   "execution_count": 12,
   "metadata": {},
   "outputs": [],
   "source": [
    "#This is our model\n",
    "@jax.jit\n",
    "def predict(params, inputs):\n",
    "    y1 = jnp.dot(inputs, params['w1']) + params['b1']\n",
    "    y1 = jnp.maximum(y1, 0)\n",
    "    y2 = jnp.dot(y1, params['w2']) + params['b2']\n",
    "    y2 = jnp.maximum(y2, 0)\n",
    "    y3 = jnp.dot(y2, params['w3'])\n",
    "    return y3\n",
    "\n",
    "@jax.jit\n",
    "def loss(params, batch):\n",
    "    inputs, targets = batch\n",
    "    predictions = predict(params, inputs)\n",
    "    return jnp.mean((predictions - targets)**2)"
   ]
  },
  {
   "cell_type": "code",
   "execution_count": 66,
   "metadata": {},
   "outputs": [],
   "source": [
    "#Here we initialize the model parameters\n",
    "\n",
    "w1 = jax.random.normal(jax.random.PRNGKey(0),[5,64])\n",
    "b1 = jax.random.normal(jax.random.PRNGKey(1),[64])\n",
    "w2 = jax.random.normal(jax.random.PRNGKey(2),[64,64])\n",
    "b2 = jax.random.normal(jax.random.PRNGKey(3),[64])\n",
    "w3 = jax.random.normal(jax.random.PRNGKey(8),[64,1])\n",
    "\n",
    "params = {'w1':w1,'w2':w2,'w3':w3,'b1':b1,'b2':b2}"
   ]
  },
  {
   "cell_type": "code",
   "execution_count": 67,
   "metadata": {},
   "outputs": [
    {
     "name": "stdout",
     "output_type": "stream",
     "text": [
      "CPU times: user 169 ms, sys: 20.3 ms, total: 190 ms\n",
      "Wall time: 167 ms\n"
     ]
    },
    {
     "data": {
      "text/plain": [
       "(Array(1050.9647, dtype=float32),\n",
       " {'b1': Array([ 3.68541199e+02,  0.00000000e+00, -2.66853516e+02, -3.69854510e-01,\n",
       "         -1.26461804e-01,  1.41882935e+02,  0.00000000e+00,  4.85839310e+01,\n",
       "         -3.40770006e-01, -1.36637085e+02,  0.00000000e+00, -1.81689667e+02,\n",
       "          1.65313660e+02, -2.11434860e+02, -1.58138641e+02,  2.23911929e+00,\n",
       "          6.12530518e+00, -4.71527023e+01, -8.99392366e-03,  4.96479004e+02,\n",
       "         -2.54538651e+02, -2.44776779e+02, -1.98906437e-01, -3.99749756e+02,\n",
       "         -1.48631513e+00,  3.30459714e-01, -5.75590858e+01,  2.26476135e+01,\n",
       "          4.39702393e+02,  1.45429611e+02,  0.00000000e+00,  1.31979918e+00,\n",
       "          0.00000000e+00,  1.88511598e+00,  5.02394974e-01,  3.51978760e+02,\n",
       "          2.03502369e+01, -3.36135254e+01,  0.00000000e+00, -1.12919593e+00,\n",
       "         -5.83512802e+01, -6.24189675e-01,  3.74287814e-01,  2.66083313e+02,\n",
       "          0.00000000e+00,  1.68466461e+02, -2.44625824e+02, -6.76219559e+01,\n",
       "         -1.05156291e+00, -4.02277976e-01,  6.66008949e-01, -1.11430176e+02,\n",
       "          0.00000000e+00,  0.00000000e+00, -6.92442780e+01,  0.00000000e+00,\n",
       "         -5.14621468e+01,  1.51008362e+02,  4.19740486e+00, -3.00499390e+02,\n",
       "          8.80301971e+01, -2.47987885e+02,  0.00000000e+00, -7.71258392e+01],      dtype=float32),\n",
       "  'b2': Array([ 3.96354008e+00, -1.17280838e+02,  1.07310259e+00,  3.94365883e+01,\n",
       "         -6.34335279e-01,  6.07272758e+01,  0.00000000e+00,  0.00000000e+00,\n",
       "          6.77800140e+01, -1.53998766e+01,  2.01909180e+01, -6.61885738e-02,\n",
       "         -2.92696450e-02,  0.00000000e+00,  3.32484741e+01,  2.84311295e+01,\n",
       "          1.17664967e+01, -1.81251907e+01,  0.00000000e+00,  1.08546436e-01,\n",
       "         -3.73435259e-01,  3.33805561e+00,  0.00000000e+00,  3.28393974e+01,\n",
       "         -5.81414566e+01, -1.63166103e+01, -7.06371665e-02,  3.64230931e-01,\n",
       "         -3.89410400e+01,  3.63021612e+00, -2.16156273e+01, -4.28283960e-02,\n",
       "          0.00000000e+00, -6.33197098e+01,  0.00000000e+00, -4.26861018e-01,\n",
       "         -7.06426054e-02,  3.16987667e+01,  1.22962132e-01,  3.41006393e+01,\n",
       "          3.96398544e+01,  1.11758375e+00,  1.56867943e+01, -3.09946938e+01,\n",
       "          2.59609103e-01,  0.00000000e+00,  0.00000000e+00, -6.41738325e-02,\n",
       "          0.00000000e+00,  1.15123529e+01,  0.00000000e+00,  6.19493179e+01,\n",
       "          9.90876406e-02,  4.39571285e+00,  1.96735535e+01,  0.00000000e+00,\n",
       "          2.96477471e-02,  3.28842468e+01,  2.43714867e+01,  0.00000000e+00,\n",
       "          5.40977936e+01,  4.57624234e-02,  2.73494422e-01, -1.33545799e+01],      dtype=float32),\n",
       "  'w1': Array([[ 1.90889197e+03,  0.00000000e+00, -1.37476074e+03,\n",
       "          -2.00007796e+00,  0.00000000e+00,  7.68121521e+02,\n",
       "           0.00000000e+00,  2.21682922e+02, -8.23342419e+00,\n",
       "          -7.02736755e+02,  0.00000000e+00, -9.47784424e+02,\n",
       "           8.45183594e+02, -1.13671387e+03, -8.27184570e+02,\n",
       "           1.07380180e+01,  1.88530865e+01, -2.43014267e+02,\n",
       "          -3.11476231e+00,  2.56656104e+03, -1.29760229e+03,\n",
       "          -1.25343677e+03,  0.00000000e+00, -2.01948999e+03,\n",
       "          -8.03760910e+00,  6.06394231e-01, -2.96623291e+02,\n",
       "           1.14949188e+02,  2.26354834e+03,  7.49756409e+02,\n",
       "           0.00000000e+00,  1.48855329e+00,  0.00000000e+00,\n",
       "           2.09574461e+00,  2.95095444e+00,  1.83309131e+03,\n",
       "           1.14134377e+02, -1.71936783e+02,  0.00000000e+00,\n",
       "          -2.51097417e+00, -3.04357422e+02,  0.00000000e+00,\n",
       "           1.90443051e+00,  1.36838538e+03,  0.00000000e+00,\n",
       "           8.65941772e+02, -1.26811438e+03, -3.61813721e+02,\n",
       "           0.00000000e+00, -2.17541575e+00,  0.00000000e+00,\n",
       "          -5.75487366e+02,  0.00000000e+00,  0.00000000e+00,\n",
       "          -3.75945251e+02,  0.00000000e+00, -2.80132080e+02,\n",
       "           7.97562988e+02,  1.69944000e+01, -1.57560938e+03,\n",
       "           4.49372040e+02, -1.27950708e+03,  0.00000000e+00,\n",
       "          -3.85033417e+02],\n",
       "         [ 1.66592859e+03,  0.00000000e+00, -1.20340698e+03,\n",
       "           0.00000000e+00, -3.48411620e-01,  6.70391846e+02,\n",
       "           0.00000000e+00,  1.89226013e+02, -4.61938190e+00,\n",
       "          -6.08609192e+02,  0.00000000e+00, -8.30032227e+02,\n",
       "           7.33406677e+02, -9.67600220e+02, -7.18967957e+02,\n",
       "           2.64353061e+00,  1.47805576e+01, -2.18337463e+02,\n",
       "           0.00000000e+00,  2.25625342e+03, -1.13394421e+03,\n",
       "          -1.08786597e+03, -6.27242148e-01, -1.76381543e+03,\n",
       "           0.00000000e+00,  3.80749732e-01, -2.67195496e+02,\n",
       "           9.21864166e+01,  1.97551172e+03,  6.46330933e+02,\n",
       "           0.00000000e+00,  1.91188407e+00,  0.00000000e+00,\n",
       "           1.83860111e+00,  2.63988900e+00,  1.60810156e+03,\n",
       "           1.00961815e+02, -1.57738876e+02,  0.00000000e+00,\n",
       "          -1.02064633e+00, -2.56327087e+02,  6.19228125e-01,\n",
       "           8.92919660e-01,  1.19789136e+03,  0.00000000e+00,\n",
       "           7.52734375e+02, -1.10692798e+03, -3.27427246e+02,\n",
       "           0.00000000e+00,  0.00000000e+00,  0.00000000e+00,\n",
       "          -5.09623444e+02,  0.00000000e+00,  0.00000000e+00,\n",
       "          -3.28725891e+02,  0.00000000e+00, -2.36533325e+02,\n",
       "           6.94074951e+02,  9.42038059e+00, -1.35970911e+03,\n",
       "           3.86384949e+02, -1.12403687e+03,  0.00000000e+00,\n",
       "          -3.47038452e+02],\n",
       "         [ 1.84939429e+03,  0.00000000e+00, -1.33504663e+03,\n",
       "           0.00000000e+00, -3.72691363e-01,  7.39152832e+02,\n",
       "           0.00000000e+00,  2.04260590e+02,  2.93196893e+00,\n",
       "          -6.74658813e+02,  0.00000000e+00, -9.23099976e+02,\n",
       "           7.92907349e+02, -1.08111389e+03, -7.91674683e+02,\n",
       "           1.20124090e+00,  6.43561721e-01, -2.44346222e+02,\n",
       "          -6.33578110e+00,  2.50943555e+03, -1.25192566e+03,\n",
       "          -1.18857080e+03, -6.70952737e-01, -1.91347070e+03,\n",
       "           0.00000000e+00,  3.80044413e+00, -3.12610657e+02,\n",
       "           1.08746651e+02,  2.17146167e+03,  7.04308472e+02,\n",
       "           0.00000000e+00,  3.57990354e-01,  0.00000000e+00,\n",
       "           6.09161437e-01,  0.00000000e+00,  1.78941064e+03,\n",
       "           1.18027252e+02, -1.87636597e+02,  0.00000000e+00,\n",
       "           1.87567055e-01, -2.75544220e+02,  6.49822474e-01,\n",
       "           9.95034933e-01,  1.32743506e+03,  0.00000000e+00,\n",
       "           8.25756775e+02, -1.22827002e+03, -3.81727509e+02,\n",
       "           0.00000000e+00,  0.00000000e+00,  0.00000000e+00,\n",
       "          -5.70602478e+02,  0.00000000e+00,  0.00000000e+00,\n",
       "          -3.61209229e+02,  0.00000000e+00, -2.48054199e+02,\n",
       "           7.67103943e+02, -4.51078415e+00, -1.52149207e+03,\n",
       "           4.26491180e+02, -1.25162744e+03,  0.00000000e+00,\n",
       "          -3.82549774e+02],\n",
       "         [ 1.87615405e+03,  0.00000000e+00, -1.33518347e+03,\n",
       "           0.00000000e+00,  0.00000000e+00,  7.46711243e+02,\n",
       "           0.00000000e+00,  2.09902222e+02,  5.16180992e-01,\n",
       "          -6.85187866e+02,  0.00000000e+00, -9.22262085e+02,\n",
       "           8.19173828e+02, -1.09610730e+03, -7.99108398e+02,\n",
       "           1.47715354e+00,  1.88668613e+01, -2.46172638e+02,\n",
       "          -5.82542038e+00,  2.50579224e+03, -1.26076562e+03,\n",
       "          -1.21209741e+03,  0.00000000e+00, -1.96630481e+03,\n",
       "           0.00000000e+00, -2.66410559e-01, -3.00601807e+02,\n",
       "           1.14311554e+02,  2.20112158e+03,  7.23311951e+02,\n",
       "           0.00000000e+00, -1.23445496e-01,  0.00000000e+00,\n",
       "           0.00000000e+00,  0.00000000e+00,  1.78758923e+03,\n",
       "           1.15266624e+02, -1.67635498e+02,  0.00000000e+00,\n",
       "          -4.88900483e-01, -2.96683044e+02,  2.35072836e-01,\n",
       "           0.00000000e+00,  1.34617041e+03,  0.00000000e+00,\n",
       "           8.37829956e+02, -1.23193604e+03, -3.60684845e+02,\n",
       "           0.00000000e+00,  0.00000000e+00,  0.00000000e+00,\n",
       "          -5.69892151e+02,  0.00000000e+00,  0.00000000e+00,\n",
       "          -3.66722900e+02,  0.00000000e+00, -2.65123199e+02,\n",
       "           7.74242554e+02,  1.30834627e+01, -1.52951440e+03,\n",
       "           4.31547363e+02, -1.26832104e+03,  0.00000000e+00,\n",
       "          -3.80169128e+02],\n",
       "         [ 1.90911328e+03,  0.00000000e+00, -1.37188721e+03,\n",
       "          -1.98088026e+00,  0.00000000e+00,  7.62575256e+02,\n",
       "           0.00000000e+00,  2.19371597e+02,  2.06291273e-01,\n",
       "          -6.95306702e+02,  0.00000000e+00, -9.46084229e+02,\n",
       "           8.35472595e+02, -1.12161304e+03, -8.22440796e+02,\n",
       "           7.32975674e+00,  1.94306450e+01, -2.45922211e+02,\n",
       "          -2.46741152e+00,  2.56576416e+03, -1.28955811e+03,\n",
       "          -1.24707227e+03,  0.00000000e+00, -2.01728979e+03,\n",
       "          -7.96046066e+00,  0.00000000e+00, -2.98518738e+02,\n",
       "           1.16774849e+02,  2.25650537e+03,  7.43216553e+02,\n",
       "           0.00000000e+00, -7.85537355e-04,  0.00000000e+00,\n",
       "           0.00000000e+00,  0.00000000e+00,  1.83207861e+03,\n",
       "           1.14818420e+02, -1.74946442e+02,  0.00000000e+00,\n",
       "          -2.48557663e+00, -3.01179108e+02,  0.00000000e+00,\n",
       "           1.88098121e+00,  1.36753418e+03,  0.00000000e+00,\n",
       "           8.59844849e+02, -1.25623755e+03, -3.68028687e+02,\n",
       "           0.00000000e+00, -2.15453506e+00,  0.00000000e+00,\n",
       "          -5.79844971e+02,  0.00000000e+00,  0.00000000e+00,\n",
       "          -3.72622498e+02,  0.00000000e+00, -2.73669098e+02,\n",
       "           7.88260010e+02,  1.63799534e+01, -1.55617676e+03,\n",
       "           4.44829834e+02, -1.28415979e+03,  0.00000000e+00,\n",
       "          -3.87415588e+02]], dtype=float32),\n",
       "  'w2': Array([[ 9.38401031e+00, -2.77646301e+02,  1.92274570e+00, ...,\n",
       "           1.14026845e-01,  3.36871713e-01, -3.16180687e+01],\n",
       "         [ 0.00000000e+00,  0.00000000e+00,  0.00000000e+00, ...,\n",
       "           0.00000000e+00,  0.00000000e+00,  0.00000000e+00],\n",
       "         [ 2.59885941e+01, -7.72975281e+02,  4.61112976e+00, ...,\n",
       "           4.44471836e-02,  8.56743753e-01, -8.75648422e+01],\n",
       "         ...,\n",
       "         [ 4.84048843e+00, -1.44060410e+02,  4.79785872e+00, ...,\n",
       "           3.60983098e-03,  5.89755833e-01, -1.63093338e+01],\n",
       "         [ 0.00000000e+00,  0.00000000e+00,  0.00000000e+00, ...,\n",
       "           0.00000000e+00,  0.00000000e+00,  0.00000000e+00],\n",
       "         [ 3.00256462e+01, -8.92571228e+02,  3.65704894e-01, ...,\n",
       "           7.36808702e-02,  5.18133938e-01, -1.01167107e+02]],      dtype=float32),\n",
       "  'w3': Array([[ 3.0776611e+03],\n",
       "         [ 1.5114968e+03],\n",
       "         [-2.0798466e+01],\n",
       "         [ 1.3347530e+02],\n",
       "         [ 1.8144567e+03],\n",
       "         [ 1.6932302e+03],\n",
       "         [ 0.0000000e+00],\n",
       "         [ 0.0000000e+00],\n",
       "         [ 4.1495791e+03],\n",
       "         [ 1.4574762e+03],\n",
       "         [ 2.5053110e+03],\n",
       "         [-2.3733642e+00],\n",
       "         [-1.0209849e+00],\n",
       "         [ 0.0000000e+00],\n",
       "         [ 1.4301178e+03],\n",
       "         [ 4.0183481e+03],\n",
       "         [-1.9899604e+00],\n",
       "         [ 3.3936260e+03],\n",
       "         [ 0.0000000e+00],\n",
       "         [-6.4051753e-01],\n",
       "         [-2.3198977e+00],\n",
       "         [ 5.3915747e+02],\n",
       "         [ 0.0000000e+00],\n",
       "         [ 1.2903118e+03],\n",
       "         [ 2.0169596e+03],\n",
       "         [ 1.0893422e+02],\n",
       "         [ 7.0807552e-01],\n",
       "         [-9.2825241e+00],\n",
       "         [ 3.1286248e+03],\n",
       "         [-2.7829712e+01],\n",
       "         [ 9.0957161e+01],\n",
       "         [-9.6933347e-01],\n",
       "         [ 0.0000000e+00],\n",
       "         [ 2.8575203e+03],\n",
       "         [ 0.0000000e+00],\n",
       "         [ 3.4080789e+00],\n",
       "         [ 1.6966890e+03],\n",
       "         [ 1.8220280e+02],\n",
       "         [-8.8908976e-01],\n",
       "         [ 5.9760590e+02],\n",
       "         [ 2.3452860e+01],\n",
       "         [-2.1431875e+01],\n",
       "         [ 8.3216705e+02],\n",
       "         [ 4.7475000e+02],\n",
       "         [-2.5049856e+01],\n",
       "         [ 0.0000000e+00],\n",
       "         [ 0.0000000e+00],\n",
       "         [ 5.9973550e-01],\n",
       "         [ 0.0000000e+00],\n",
       "         [ 2.5258728e+03],\n",
       "         [ 0.0000000e+00],\n",
       "         [ 6.9992023e+02],\n",
       "         [-1.1205027e+00],\n",
       "         [ 2.4148550e+03],\n",
       "         [ 2.6410135e+02],\n",
       "         [ 0.0000000e+00],\n",
       "         [ 6.2930341e+00],\n",
       "         [ 1.1791591e+03],\n",
       "         [ 1.8892830e+02],\n",
       "         [ 0.0000000e+00],\n",
       "         [ 3.4214197e+02],\n",
       "         [ 1.3385190e+00],\n",
       "         [-6.0942950e+00],\n",
       "         [ 4.9391235e+03]], dtype=float32)})"
      ]
     },
     "execution_count": 67,
     "metadata": {},
     "output_type": "execute_result"
    }
   ],
   "source": [
    "loss_grad = jax.value_and_grad(loss)\n",
    "%time loss_grad(params,(input_data[0:2048],spec_z[0:2048]))"
   ]
  },
  {
   "cell_type": "code",
   "execution_count": 68,
   "metadata": {},
   "outputs": [],
   "source": [
    "#Here is our optimiser\n",
    "@jax.jit\n",
    "def gradient_descent(params,grads,lr=1e-5):\n",
    "    for keys in params.keys():\n",
    "        params[keys] = params[keys] - grads[keys]*lr\n",
    "    return params"
   ]
  },
  {
   "cell_type": "code",
   "execution_count": 69,
   "metadata": {},
   "outputs": [
    {
     "name": "stdout",
     "output_type": "stream",
     "text": [
      "CPU times: user 20.3 s, sys: 799 ms, total: 21.1 s\n",
      "Wall time: 9.26 s\n"
     ]
    }
   ],
   "source": [
    "%%time\n",
    "loss_iter = []\n",
    "iters = 1000\n",
    "key = jax.random.PRNGKey(0)\n",
    "\n",
    "batch = 2048\n",
    "\n",
    "for i in range(iters):\n",
    "    key, subkey = jax.random.split(key)\n",
    "    idx = jax.random.randint(key,[batch],0,700000)\n",
    "    inputs = (input_data[idx],spec_z[idx])\n",
    "    loss_value,loss_grad_val = loss_grad(params,inputs)\n",
    "    loss_iter.append(loss_value)\n",
    "    params = gradient_descent(params,loss_grad_val)"
   ]
  },
  {
   "cell_type": "code",
   "execution_count": 70,
   "metadata": {},
   "outputs": [
    {
     "name": "stdout",
     "output_type": "stream",
     "text": [
      "CPU times: user 16.9 ms, sys: 3.98 ms, total: 20.9 ms\n",
      "Wall time: 8.68 ms\n"
     ]
    }
   ],
   "source": [
    "%time loss_value,loss_grad_val = loss_grad(params,inputs)"
   ]
  },
  {
   "cell_type": "code",
   "execution_count": 71,
   "metadata": {},
   "outputs": [
    {
     "data": {
      "text/plain": [
       "[<matplotlib.lines.Line2D at 0x1509c4170be0>]"
      ]
     },
     "execution_count": 71,
     "metadata": {},
     "output_type": "execute_result"
    },
    {
     "data": {
      "image/png": "[encoded data removed]",
      "text/plain": [
       "<Figure size 640x480 with 1 Axes>"
      ]
     },
     "metadata": {},
     "output_type": "display_data"
    }
   ],
   "source": [
    "plt.semilogy(loss_iter)"
   ]
  },
  {
   "cell_type": "code",
   "execution_count": 72,
   "metadata": {},
   "outputs": [],
   "source": [
    "test_data = input_data[700000:710000]\n",
    "z_pred = predict(params,test_data)"
   ]
  },
  {
   "cell_type": "code",
   "execution_count": 73,
   "metadata": {},
   "outputs": [
    {
     "data": {
      "text/plain": [
       "(-1.0, 6.0)"
      ]
     },
     "execution_count": 73,
     "metadata": {},
     "output_type": "execute_result"
    },
    {
     "data": {
      "image/png": "[encoded data removed]",
      "text/plain": [
       "<Figure size 640x480 with 1 Axes>"
      ]
     },
     "metadata": {},
     "output_type": "display_data"
    }
   ],
   "source": [
    "plt.scatter(spec_z[700000:710000],z_pred,alpha=0.02)\n",
    "plt.plot(spec_z[700000:710000],spec_z[700000:710000])\n",
    "plt.xlim(-1,6)\n",
    "plt.ylim(-1,6)"
   ]
  },
  {
   "cell_type": "markdown",
   "metadata": {},
   "source": [
    "Next we perform a magic: we only need to distribute the weights on different devices, then the computation is automatically sharded.\n",
    "\n",
    "The only thing we need to think is how we shard the data on different devices. The core idea is, we must first figure out what we want. Take a simplest example, we have matrix `A = [[1,2],[3,4],[5,6],[7,8]]`, `B = [9,10]`. And we have CPU 0-CPU 8. Here we want to do $C = A\\cdot B$. That is, our new matrix is `C = [[1*9,2*10],[3*9,4*10],[5*9,6*10],[7*9,8*10]]`.\n",
    "\n",
    "If we want our eight cores compute eight element seperately, think about how we should put the data? We want CPU 0 to compute 1\\*9, so we should send 1 and 9 to CPU0. Similarly, 2 and 10 to CPU 1, 3 and 9 to CPU 2...\n",
    "\n",
    "Finally, we send each element of A to a distinct CPU, send 9 to CPU 0,2,4,6, send 10 to CPU 1,3,5,7."
   ]
  },
  {
   "cell_type": "code",
   "execution_count": 81,
   "metadata": {},
   "outputs": [],
   "source": [
    "sharding = sharding.reshape(4, 2)\n",
    "\n",
    "w1 = jax.random.normal(jax.random.PRNGKey(0),[5,64])\n",
    "b1 = jax.random.normal(jax.random.PRNGKey(1),[64])\n",
    "w2 = jax.random.normal(jax.random.PRNGKey(2),[64,64])\n",
    "b2 = jax.random.normal(jax.random.PRNGKey(3),[64])\n",
    "w3 = jax.random.normal(jax.random.PRNGKey(8),[64,1])\n",
    "w1 = jax.device_put(w1, sharding.replicate())\n",
    "b1 = jax.device_put(b1, sharding.replicate())\n",
    "\n",
    "w2 = jax.device_put(w2, sharding.replicate(0))\n",
    "b2 = jax.device_put(b2, sharding.replicate(0))\n",
    "\n",
    "w3 = jax.device_put(w3, sharding.replicate(0).T)\n",
    "\n",
    "params = {'w1':w1,'w2':w2,'w3':w3,'b1':b1,'b2':b2}"
   ]
  },
  {
   "cell_type": "code",
   "execution_count": 82,
   "metadata": {},
   "outputs": [
    {
     "name": "stdout",
     "output_type": "stream",
     "text": [
      "CPU times: user 1min 38s, sys: 3.17 s, total: 1min 41s\n",
      "Wall time: 6.35 s\n"
     ]
    }
   ],
   "source": [
    "%%time\n",
    "loss_iter = []\n",
    "iters = 1000\n",
    "key = jax.random.PRNGKey(0)\n",
    "\n",
    "batch = 2048\n",
    "\n",
    "for i in range(iters):\n",
    "    key, subkey = jax.random.split(key)\n",
    "    idx = jax.random.randint(key,[batch],0,700000)\n",
    "    inputs = (jax.device_put(input_data[idx], sharding.replicate(1)),jax.device_put(spec_z[idx], sharding.replicate()))\n",
    "    loss_value,loss_grad_val = loss_grad(params,inputs)\n",
    "    loss_iter.append(loss_value)\n",
    "    params = gradient_descent(params,loss_grad_val)"
   ]
  },
  {
   "cell_type": "code",
   "execution_count": 83,
   "metadata": {},
   "outputs": [
    {
     "data": {
      "text/html": [
       "<pre style=\"white-space:pre;overflow-x:auto;line-height:normal;font-family:Menlo,'DejaVu Sans Mono',consolas,'Courier New',monospace\"><span style=\"color: #ffffff; text-decoration-color: #ffffff; background-color: #393b79\">           </span>\n",
       "<span style=\"color: #ffffff; text-decoration-color: #ffffff; background-color: #393b79\">           </span>\n",
       "<span style=\"color: #ffffff; text-decoration-color: #ffffff; background-color: #393b79\">CPU 0,2,4,6</span>\n",
       "<span style=\"color: #ffffff; text-decoration-color: #ffffff; background-color: #393b79\">           </span>\n",
       "<span style=\"color: #ffffff; text-decoration-color: #ffffff; background-color: #393b79\">           </span>\n",
       "<span style=\"color: #ffffff; text-decoration-color: #ffffff; background-color: #393b79\">           </span>\n",
       "<span style=\"color: #ffffff; text-decoration-color: #ffffff; background-color: #393b79\">           </span>\n",
       "<span style=\"color: #ffffff; text-decoration-color: #ffffff; background-color: #393b79\">           </span>\n",
       "<span style=\"color: #ffffff; text-decoration-color: #ffffff; background-color: #393b79\">CPU 1,3,5,7</span>\n",
       "<span style=\"color: #ffffff; text-decoration-color: #ffffff; background-color: #393b79\">           </span>\n",
       "<span style=\"color: #ffffff; text-decoration-color: #ffffff; background-color: #393b79\">           </span>\n",
       "<span style=\"color: #ffffff; text-decoration-color: #ffffff; background-color: #393b79\">           </span>\n",
       "</pre>\n"
      ],
      "text/plain": [
       "\u001b[38;2;255;255;255;48;2;57;59;121m           \u001b[0m\n",
       "\u001b[38;2;255;255;255;48;2;57;59;121m           \u001b[0m\n",
       "\u001b[38;2;255;255;255;48;2;57;59;121mCPU 0,2,4,6\u001b[0m\n",
       "\u001b[38;2;255;255;255;48;2;57;59;121m           \u001b[0m\n",
       "\u001b[38;2;255;255;255;48;2;57;59;121m           \u001b[0m\n",
       "\u001b[38;2;255;255;255;48;2;57;59;121m           \u001b[0m\n",
       "\u001b[38;2;255;255;255;48;2;57;59;121m           \u001b[0m\n",
       "\u001b[38;2;255;255;255;48;2;57;59;121m           \u001b[0m\n",
       "\u001b[38;2;255;255;255;48;2;57;59;121mCPU 1,3,5,7\u001b[0m\n",
       "\u001b[38;2;255;255;255;48;2;57;59;121m           \u001b[0m\n",
       "\u001b[38;2;255;255;255;48;2;57;59;121m           \u001b[0m\n",
       "\u001b[38;2;255;255;255;48;2;57;59;121m           \u001b[0m\n"
      ]
     },
     "metadata": {},
     "output_type": "display_data"
    },
    {
     "data": {
      "text/html": [
       "<pre style=\"white-space:pre;overflow-x:auto;line-height:normal;font-family:Menlo,'DejaVu Sans Mono',consolas,'Courier New',monospace\"><span style=\"color: #ffffff; text-decoration-color: #ffffff; background-color: #393b79\">           </span>\n",
       "<span style=\"color: #ffffff; text-decoration-color: #ffffff; background-color: #393b79\">           </span>\n",
       "<span style=\"color: #ffffff; text-decoration-color: #ffffff; background-color: #393b79\">CPU 0,2,4,6</span>\n",
       "<span style=\"color: #ffffff; text-decoration-color: #ffffff; background-color: #393b79\">           </span>\n",
       "<span style=\"color: #ffffff; text-decoration-color: #ffffff; background-color: #393b79\">           </span>\n",
       "<span style=\"color: #ffffff; text-decoration-color: #ffffff; background-color: #393b79\">           </span>\n",
       "<span style=\"color: #ffffff; text-decoration-color: #ffffff; background-color: #393b79\">           </span>\n",
       "<span style=\"color: #ffffff; text-decoration-color: #ffffff; background-color: #393b79\">           </span>\n",
       "<span style=\"color: #ffffff; text-decoration-color: #ffffff; background-color: #393b79\">CPU 1,3,5,7</span>\n",
       "<span style=\"color: #ffffff; text-decoration-color: #ffffff; background-color: #393b79\">           </span>\n",
       "<span style=\"color: #ffffff; text-decoration-color: #ffffff; background-color: #393b79\">           </span>\n",
       "<span style=\"color: #ffffff; text-decoration-color: #ffffff; background-color: #393b79\">           </span>\n",
       "</pre>\n"
      ],
      "text/plain": [
       "\u001b[38;2;255;255;255;48;2;57;59;121m           \u001b[0m\n",
       "\u001b[38;2;255;255;255;48;2;57;59;121m           \u001b[0m\n",
       "\u001b[38;2;255;255;255;48;2;57;59;121mCPU 0,2,4,6\u001b[0m\n",
       "\u001b[38;2;255;255;255;48;2;57;59;121m           \u001b[0m\n",
       "\u001b[38;2;255;255;255;48;2;57;59;121m           \u001b[0m\n",
       "\u001b[38;2;255;255;255;48;2;57;59;121m           \u001b[0m\n",
       "\u001b[38;2;255;255;255;48;2;57;59;121m           \u001b[0m\n",
       "\u001b[38;2;255;255;255;48;2;57;59;121m           \u001b[0m\n",
       "\u001b[38;2;255;255;255;48;2;57;59;121mCPU 1,3,5,7\u001b[0m\n",
       "\u001b[38;2;255;255;255;48;2;57;59;121m           \u001b[0m\n",
       "\u001b[38;2;255;255;255;48;2;57;59;121m           \u001b[0m\n",
       "\u001b[38;2;255;255;255;48;2;57;59;121m           \u001b[0m\n"
      ]
     },
     "metadata": {},
     "output_type": "display_data"
    }
   ],
   "source": [
    "jax.debug.visualize_array_sharding(params['w3'])\n",
    "jax.debug.visualize_array_sharding(loss_grad_val['w3'])"
   ]
  },
  {
   "cell_type": "code",
   "execution_count": 84,
   "metadata": {},
   "outputs": [
    {
     "name": "stdout",
     "output_type": "stream",
     "text": [
      "CPU times: user 78.2 ms, sys: 2.17 ms, total: 80.4 ms\n",
      "Wall time: 5.07 ms\n"
     ]
    }
   ],
   "source": [
    "%time loss_value,loss_grad_val = loss_grad(params,inputs)"
   ]
  },
  {
   "cell_type": "markdown",
   "metadata": {},
   "source": [
    "### Example: Parallel convolution\n",
    "\n",
    "OK, let's go back to the convolution problem when we were talk about. Some times we just cannot figure out how to distribute things to each device because that the operation is too complicated. In this case we can utilize the `shmap` function to help.\n",
    "\n",
    "More reference can be found in [this url](https://jax.readthedocs.io/en/latest/jep/14273-shard-map.html)."
   ]
  },
  {
   "cell_type": "code",
   "execution_count": 47,
   "metadata": {},
   "outputs": [],
   "source": [
    "#suppose here w is a 1d vector of length 3\n",
    "@jax.jit\n",
    "def convolve(x,w):\n",
    "    y = jnp.concatenate([x,jnp.zeros([w.shape[0]-1])],axis = 0)\n",
    "    for i in range(len(x)):\n",
    "        x = x.at[i].set(jnp.sum(y[i:i+w.shape[0]]+w))\n",
    "    return x\n",
    "\n",
    "x = jax.random.uniform(jax.random.PRNGKey(0), [8096,1024])\n",
    "w = jnp.arange(0,32)"
   ]
  },
  {
   "cell_type": "code",
   "execution_count": 70,
   "metadata": {},
   "outputs": [],
   "source": [
    "from jax.sharding import Mesh, PartitionSpec as P\n",
    "from jax.experimental import mesh_utils\n",
    "from jax.experimental.shard_map import shard_map\n",
    "from jax.sharding import NamedSharding\n",
    "import numpy as np\n",
    "\n",
    "\n",
    "devices = np.array(jax.devices())\n",
    "m = Mesh(devices, ('i',))  # mesh.shape['i'] = 4\n",
    "\n",
    "convolve_batch = jax.jit(jax.vmap(lambda x: convolve(x,w)))"
   ]
  },
  {
   "cell_type": "code",
   "execution_count": 66,
   "metadata": {},
   "outputs": [],
   "source": [
    "x_shard = jax.device_put(x,NamedSharding(m,P('i')))\n",
    "w_shard = jax.device_put(w,NamedSharding(m,P(None)))\n",
    "\n",
    "convolve_shard = jax.vmap(lambda x: convolve(x,w_shard))\n",
    "\n",
    "convolve_shard = jax.jit(shard_map(convolve_shard, m, in_specs=P('i'), out_specs=P('i')))"
   ]
  },
  {
   "cell_type": "code",
   "execution_count": 79,
   "metadata": {},
   "outputs": [
    {
     "name": "stdout",
     "output_type": "stream",
     "text": [
      "CPU times: user 347 ms, sys: 17 ms, total: 364 ms\n",
      "Wall time: 278 ms\n"
     ]
    }
   ],
   "source": [
    "%time y = convolve_batch(x)"
   ]
  },
  {
   "cell_type": "code",
   "execution_count": 80,
   "metadata": {},
   "outputs": [
    {
     "name": "stdout",
     "output_type": "stream",
     "text": [
      "CPU times: user 195 ms, sys: 6.59 ms, total: 202 ms\n",
      "Wall time: 4.45 ms\n"
     ]
    }
   ],
   "source": [
    "%time y_shard = convolve_shard(x_shard)"
   ]
  },
  {
   "cell_type": "code",
   "execution_count": 145,
   "metadata": {},
   "outputs": [
    {
     "data": {
      "text/html": [
       "<pre style=\"white-space:pre;overflow-x:auto;line-height:normal;font-family:Menlo,'DejaVu Sans Mono',consolas,'Courier New',monospace\"><span style=\"color: #ffffff; text-decoration-color: #ffffff; background-color: #393b79\">  CPU 0  </span>\n",
       "<span style=\"color: #ffffff; text-decoration-color: #ffffff; background-color: #393b79\">         </span>\n",
       "<span style=\"color: #ffffff; text-decoration-color: #ffffff; background-color: #d6616b\">  CPU 1  </span>\n",
       "<span style=\"color: #ffffff; text-decoration-color: #ffffff; background-color: #d6616b\">         </span>\n",
       "<span style=\"color: #ffffff; text-decoration-color: #ffffff; background-color: #8ca252\">  CPU 2  </span>\n",
       "<span style=\"color: #ffffff; text-decoration-color: #ffffff; background-color: #8ca252\">         </span>\n",
       "<span style=\"color: #ffffff; text-decoration-color: #ffffff; background-color: #de9ed6\">  CPU 3  </span>\n",
       "<span style=\"color: #ffffff; text-decoration-color: #ffffff; background-color: #de9ed6\">         </span>\n",
       "<span style=\"color: #000000; text-decoration-color: #000000; background-color: #e7cb94\">  CPU 4  </span>\n",
       "<span style=\"color: #000000; text-decoration-color: #000000; background-color: #e7cb94\">         </span>\n",
       "<span style=\"color: #ffffff; text-decoration-color: #ffffff; background-color: #6b6ecf\">  CPU 5  </span>\n",
       "<span style=\"color: #ffffff; text-decoration-color: #ffffff; background-color: #6b6ecf\">         </span>\n",
       "<span style=\"color: #ffffff; text-decoration-color: #ffffff; background-color: #a55194\">  CPU 6  </span>\n",
       "<span style=\"color: #ffffff; text-decoration-color: #ffffff; background-color: #a55194\">         </span>\n",
       "<span style=\"color: #ffffff; text-decoration-color: #ffffff; background-color: #8c6d31\">  CPU 7  </span>\n",
       "<span style=\"color: #ffffff; text-decoration-color: #ffffff; background-color: #8c6d31\">         </span>\n",
       "</pre>\n"
      ],
      "text/plain": [
       "\u001b[38;2;255;255;255;48;2;57;59;121m  \u001b[0m\u001b[38;2;255;255;255;48;2;57;59;121mCPU 0\u001b[0m\u001b[38;2;255;255;255;48;2;57;59;121m  \u001b[0m\n",
       "\u001b[38;2;255;255;255;48;2;57;59;121m         \u001b[0m\n",
       "\u001b[38;2;255;255;255;48;2;214;97;107m  \u001b[0m\u001b[38;2;255;255;255;48;2;214;97;107mCPU 1\u001b[0m\u001b[38;2;255;255;255;48;2;214;97;107m  \u001b[0m\n",
       "\u001b[38;2;255;255;255;48;2;214;97;107m         \u001b[0m\n",
       "\u001b[38;2;255;255;255;48;2;140;162;82m  \u001b[0m\u001b[38;2;255;255;255;48;2;140;162;82mCPU 2\u001b[0m\u001b[38;2;255;255;255;48;2;140;162;82m  \u001b[0m\n",
       "\u001b[38;2;255;255;255;48;2;140;162;82m         \u001b[0m\n",
       "\u001b[38;2;255;255;255;48;2;222;158;214m  \u001b[0m\u001b[38;2;255;255;255;48;2;222;158;214mCPU 3\u001b[0m\u001b[38;2;255;255;255;48;2;222;158;214m  \u001b[0m\n",
       "\u001b[38;2;255;255;255;48;2;222;158;214m         \u001b[0m\n",
       "\u001b[38;2;0;0;0;48;2;231;203;148m  \u001b[0m\u001b[38;2;0;0;0;48;2;231;203;148mCPU 4\u001b[0m\u001b[38;2;0;0;0;48;2;231;203;148m  \u001b[0m\n",
       "\u001b[38;2;0;0;0;48;2;231;203;148m         \u001b[0m\n",
       "\u001b[38;2;255;255;255;48;2;107;110;207m  \u001b[0m\u001b[38;2;255;255;255;48;2;107;110;207mCPU 5\u001b[0m\u001b[38;2;255;255;255;48;2;107;110;207m  \u001b[0m\n",
       "\u001b[38;2;255;255;255;48;2;107;110;207m         \u001b[0m\n",
       "\u001b[38;2;255;255;255;48;2;165;81;148m  \u001b[0m\u001b[38;2;255;255;255;48;2;165;81;148mCPU 6\u001b[0m\u001b[38;2;255;255;255;48;2;165;81;148m  \u001b[0m\n",
       "\u001b[38;2;255;255;255;48;2;165;81;148m         \u001b[0m\n",
       "\u001b[38;2;255;255;255;48;2;140;109;49m  \u001b[0m\u001b[38;2;255;255;255;48;2;140;109;49mCPU 7\u001b[0m\u001b[38;2;255;255;255;48;2;140;109;49m  \u001b[0m\n",
       "\u001b[38;2;255;255;255;48;2;140;109;49m         \u001b[0m\n"
      ]
     },
     "metadata": {},
     "output_type": "display_data"
    }
   ],
   "source": [
    "jax.debug.visualize_array_sharding(y_shard)"
   ]
  },
  {
   "cell_type": "code",
   "execution_count": 78,
   "metadata": {},
   "outputs": [],
   "source": [
    "x = jax.random.uniform(jax.random.PRNGKey(10), [8096,1024])\n",
    "x_shard = jax.device_put(x,NamedSharding(m,P('i')))"
   ]
  },
  {
   "cell_type": "code",
   "execution_count": 63,
   "metadata": {},
   "outputs": [
    {
     "data": {
      "text/plain": [
       "array([CpuDevice(id=0), CpuDevice(id=1), CpuDevice(id=2), CpuDevice(id=3),\n",
       "       CpuDevice(id=4), CpuDevice(id=5), CpuDevice(id=6), CpuDevice(id=7)],\n",
       "      dtype=object)"
      ]
     },
     "execution_count": 63,
     "metadata": {},
     "output_type": "execute_result"
    }
   ],
   "source": [
    "devices"
   ]
  },
  {
   "cell_type": "code",
   "execution_count": null,
   "metadata": {},
   "outputs": [],
   "source": []
  }
 ],
 "metadata": {
  "accelerator": "TPU",
  "colab": {
   "authorship_tag": "ABX9TyPeo8acrfsw9zX7EkP0X+lp",
   "provenance": []
  },
  "kernelspec": {
   "display_name": "jax-env",
   "language": "python",
   "name": "jax-env"
  },
  "language_info": {
   "codemirror_mode": {
    "name": "ipython",
    "version": 3
   },
   "file_extension": ".py",
   "mimetype": "text/x-python",
   "name": "python",
   "nbconvert_exporter": "python",
   "pygments_lexer": "ipython3",
   "version": "3.9.16"
  }
 },
 "nbformat": 4,
 "nbformat_minor": 1
}
